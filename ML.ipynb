{
 "cells": [
  {
   "cell_type": "code",
   "execution_count": 497,
   "metadata": {},
   "outputs": [],
   "source": [
    "import pandas as pd\n",
    "from tqdm import tqdm_notebook\n",
    "import numpy as np\n",
    "lone_pine = pd.read_csv(r'C:\\Users\\wells\\OneDrive\\Desktop\\lone_pine.csv')\n",
    "crsp_data = pd.read_csv('StockPriceMonthly.csv', encoding='utf8', low_memory=False)"
   ]
  },
  {
   "cell_type": "markdown",
   "metadata": {},
   "source": [
    "# pre-processing"
   ]
  },
  {
   "cell_type": "code",
   "execution_count": 498,
   "metadata": {},
   "outputs": [],
   "source": [
    "lone_pine['Ticker'] = lone_pine['Ticker'].astype('str')\n",
    "def ab(aa):\n",
    "    if '.' in aa:\n",
    "        return aa.split('.')[0]\n",
    "    if '/' in aa:\n",
    "        return aa.split('/')[0]\n",
    "    else:\n",
    "        return aa\n",
    "lone_pine['Ticker'] = lone_pine['Ticker'].apply(ab)"
   ]
  },
  {
   "cell_type": "code",
   "execution_count": 499,
   "metadata": {},
   "outputs": [],
   "source": [
    "def abc(aa):\n",
    "    aa = aa.split('/')\n",
    "    year = aa[2]\n",
    "    month = aa[0]\n",
    "    day = aa[1]\n",
    "    return year+month\n",
    "lone_pine['Date'] = lone_pine['Date'].apply(abc)"
   ]
  },
  {
   "cell_type": "code",
   "execution_count": 500,
   "metadata": {
    "scrolled": true
   },
   "outputs": [],
   "source": [
    "def abcd(aa):\n",
    "    return str(aa)[0:6]\n",
    "crsp_data['date'] = crsp_data['date'].apply(abcd)"
   ]
  },
  {
   "cell_type": "code",
   "execution_count": 501,
   "metadata": {
    "collapsed": true
   },
   "outputs": [
    {
     "data": {
      "application/vnd.jupyter.widget-view+json": {
       "model_id": "86bae4535b07425884fc152fcd78c43a",
       "version_major": 2,
       "version_minor": 0
      },
      "text/plain": [
       "HBox(children=(IntProgress(value=0, max=3467), HTML(value='')))"
      ]
     },
     "metadata": {},
     "output_type": "display_data"
    },
    {
     "name": "stderr",
     "output_type": "stream",
     "text": [
      "C:\\Users\\wells\\AppData\\Local\\Continuum\\anaconda3\\lib\\site-packages\\ipykernel_launcher.py:7: SettingWithCopyWarning: \n",
      "A value is trying to be set on a copy of a slice from a DataFrame\n",
      "\n",
      "See the caveats in the documentation: http://pandas.pydata.org/pandas-docs/stable/indexing.html#indexing-view-versus-copy\n",
      "  import sys\n",
      "C:\\Users\\wells\\AppData\\Local\\Continuum\\anaconda3\\lib\\site-packages\\ipykernel_launcher.py:8: SettingWithCopyWarning: \n",
      "A value is trying to be set on a copy of a slice from a DataFrame\n",
      "\n",
      "See the caveats in the documentation: http://pandas.pydata.org/pandas-docs/stable/indexing.html#indexing-view-versus-copy\n",
      "  \n",
      "C:\\Users\\wells\\AppData\\Local\\Continuum\\anaconda3\\lib\\site-packages\\ipykernel_launcher.py:9: SettingWithCopyWarning: \n",
      "A value is trying to be set on a copy of a slice from a DataFrame\n",
      "\n",
      "See the caveats in the documentation: http://pandas.pydata.org/pandas-docs/stable/indexing.html#indexing-view-versus-copy\n",
      "  if __name__ == '__main__':\n",
      "C:\\Users\\wells\\AppData\\Local\\Continuum\\anaconda3\\lib\\site-packages\\ipykernel_launcher.py:13: SettingWithCopyWarning: \n",
      "A value is trying to be set on a copy of a slice from a DataFrame\n",
      "\n",
      "See the caveats in the documentation: http://pandas.pydata.org/pandas-docs/stable/indexing.html#indexing-view-versus-copy\n",
      "  del sys.path[0]\n",
      "C:\\Users\\wells\\AppData\\Local\\Continuum\\anaconda3\\lib\\site-packages\\ipykernel_launcher.py:14: SettingWithCopyWarning: \n",
      "A value is trying to be set on a copy of a slice from a DataFrame\n",
      "\n",
      "See the caveats in the documentation: http://pandas.pydata.org/pandas-docs/stable/indexing.html#indexing-view-versus-copy\n",
      "  \n",
      "C:\\Users\\wells\\AppData\\Local\\Continuum\\anaconda3\\lib\\site-packages\\ipykernel_launcher.py:15: SettingWithCopyWarning: \n",
      "A value is trying to be set on a copy of a slice from a DataFrame\n",
      "\n",
      "See the caveats in the documentation: http://pandas.pydata.org/pandas-docs/stable/indexing.html#indexing-view-versus-copy\n",
      "  from ipykernel import kernelapp as app\n"
     ]
    }
   ],
   "source": [
    "add_df = pd.DataFrame(columns=lone_pine.columns)\n",
    "for index in tqdm_notebook(range(len(lone_pine))):\n",
    "    each_data = lone_pine.loc[index]\n",
    "    date = int(each_data['Date'])\n",
    "    if date % 4 == 0:\n",
    "        date = date - 12 + 100\n",
    "    each_data['Date'] = str(date+1)\n",
    "    each_data['Change'] = 0\n",
    "    each_data['Change.1'] = 0\n",
    "    add_df.loc[-1] = list(each_data)\n",
    "    add_df = add_df.reset_index(drop=True)\n",
    "    date = int(each_data['Date'])\n",
    "    each_data['Date'] = str(date+1)\n",
    "    each_data['Change'] = 0\n",
    "    each_data['Change.1'] = 0\n",
    "    add_df.loc[-1] = list(each_data)\n",
    "    add_df = add_df.reset_index(drop=True)\n",
    "lone_pine_a = pd.concat([lone_pine, add_df], ignore_index=True)"
   ]
  },
  {
   "cell_type": "code",
   "execution_count": 502,
   "metadata": {
    "scrolled": true
   },
   "outputs": [],
   "source": [
    "def class_(df_col):\n",
    "    if df_col == 'CL A':\n",
    "        return 'A'\n",
    "    elif df_col == 'CL B':\n",
    "        return 'B'\n",
    "    elif df_col == 'CL C':\n",
    "        return 'C'\n",
    "    elif df_col == 'CL D':\n",
    "        return 'D'\n",
    "    else:\n",
    "        return np.nan\n",
    "lone_pine_a['Class'] = lone_pine_a['Class'].apply(class_)"
   ]
  },
  {
   "cell_type": "code",
   "execution_count": 503,
   "metadata": {},
   "outputs": [],
   "source": [
    "def division(df):\n",
    "    if df['Shares'] == 0:\n",
    "        return 0\n",
    "    else:\n",
    "        return df['Value'] / df['Shares']\n",
    "lone_pine_a['price'] = lone_pine_a.apply(division, axis=1)"
   ]
  },
  {
   "cell_type": "code",
   "execution_count": 504,
   "metadata": {
    "scrolled": true
   },
   "outputs": [],
   "source": [
    "crsp_data.columns = ['PERMNO', 'Date', 'Ticker', 'COMNAM', 'Class', 'DIVAMT', 'PRC', 'VOL']"
   ]
  },
  {
   "cell_type": "code",
   "execution_count": 505,
   "metadata": {},
   "outputs": [],
   "source": [
    "# def class_1(df_col):\n",
    "#     if df_col == 'A':\n",
    "#         return 'A'\n",
    "#     elif df_col == 'B':\n",
    "#         return 'B'\n",
    "#     elif df_col == 'C':\n",
    "#         return 'C'\n",
    "#     elif df_col == 'D':\n",
    "#         return 'D'\n",
    "#     else:\n",
    "#         return 0\n",
    "# crsp_data['Class'] = crsp_data['Class'].apply(class_1)"
   ]
  },
  {
   "cell_type": "code",
   "execution_count": 506,
   "metadata": {},
   "outputs": [],
   "source": [
    "def to_abs(df_col):\n",
    "    return abs(df_col)\n",
    "crsp_data_c = crsp_data[['Date', 'Ticker', 'PRC', 'Class']]\n",
    "crsp_data_c = crsp_data_c[crsp_data_c['PRC'].notnull()].drop_duplicates(keep='first')\n",
    "crsp_data_c['PRC'] = crsp_data_c['PRC'].apply(to_abs)"
   ]
  },
  {
   "cell_type": "code",
   "execution_count": 507,
   "metadata": {
    "scrolled": true
   },
   "outputs": [],
   "source": [
    "lone_pine_all = lone_pine_a.merge(crsp_data_c, on=['Date', 'Ticker'], how = 'left')"
   ]
  },
  {
   "cell_type": "code",
   "execution_count": 508,
   "metadata": {
    "scrolled": true
   },
   "outputs": [],
   "source": [
    "lone_pine_all.drop(['% Port', '% OS', 'Hist'], axis=1, inplace=True)"
   ]
  },
  {
   "cell_type": "code",
   "execution_count": 509,
   "metadata": {},
   "outputs": [],
   "source": [
    "for name in list(set(list(lone_pine_all['Name']))):\n",
    "    if len(lone_pine_a[lone_pine_a['Name']==name].reset_index(drop=True)) != len(lone_pine_all[lone_pine_all['Name']==name].reset_index(drop=True)):\n",
    "        drop_df = lone_pine_all[lone_pine_all['Name']==name].loc[lone_pine_all['Class_x']!=lone_pine_all['Class_y']]\n",
    "        lone_pine_all.drop(list(drop_df.index), inplace=True)"
   ]
  },
  {
   "cell_type": "code",
   "execution_count": 510,
   "metadata": {
    "collapsed": true
   },
   "outputs": [
    {
     "data": {
      "application/vnd.jupyter.widget-view+json": {
       "model_id": "0c36193953254b9da8831833087ba9cf",
       "version_major": 2,
       "version_minor": 0
      },
      "text/plain": [
       "HBox(children=(IntProgress(value=0, max=433), HTML(value='')))"
      ]
     },
     "metadata": {},
     "output_type": "display_data"
    },
    {
     "name": "stderr",
     "output_type": "stream",
     "text": [
      "C:\\Users\\wells\\AppData\\Local\\Continuum\\anaconda3\\lib\\site-packages\\pandas\\core\\indexing.py:362: SettingWithCopyWarning: \n",
      "A value is trying to be set on a copy of a slice from a DataFrame.\n",
      "Try using .loc[row_indexer,col_indexer] = value instead\n",
      "\n",
      "See the caveats in the documentation: http://pandas.pydata.org/pandas-docs/stable/indexing.html#indexing-view-versus-copy\n",
      "  self.obj[key] = _infer_fill_value(value)\n",
      "C:\\Users\\wells\\AppData\\Local\\Continuum\\anaconda3\\lib\\site-packages\\pandas\\core\\indexing.py:543: SettingWithCopyWarning: \n",
      "A value is trying to be set on a copy of a slice from a DataFrame.\n",
      "Try using .loc[row_indexer,col_indexer] = value instead\n",
      "\n",
      "See the caveats in the documentation: http://pandas.pydata.org/pandas-docs/stable/indexing.html#indexing-view-versus-copy\n",
      "  self.obj[item] = s\n"
     ]
    }
   ],
   "source": [
    "lone_pine_all = lone_pine_all.sort_values(by='Date').reset_index(drop=True)\n",
    "df_list = []\n",
    "for each in tqdm_notebook(lone_pine_all.groupby(by='Name')):\n",
    "    name, df = each\n",
    "    df.loc[:, 'last_price'] = df['price'].shift()\n",
    "    df.loc[:, 'last_PRC'] = df['PRC'].shift()\n",
    "    df_list.append(df)"
   ]
  },
  {
   "cell_type": "code",
   "execution_count": 511,
   "metadata": {
    "scrolled": true
   },
   "outputs": [],
   "source": [
    "lone_pine_all = pd.concat(df_list)"
   ]
  },
  {
   "cell_type": "code",
   "execution_count": 512,
   "metadata": {},
   "outputs": [],
   "source": [
    "error = lone_pine_all[lone_pine_all['PRC'].isnull()][['Name', 'Ticker', 'PRC', 'Date']].drop_duplicates(keep='first', inplace=False)"
   ]
  },
  {
   "cell_type": "code",
   "execution_count": 514,
   "metadata": {
    "collapsed": true
   },
   "outputs": [
    {
     "data": {
      "application/vnd.jupyter.widget-view+json": {
       "model_id": "fcaed5b3fd244fd8a92f80f657a18526",
       "version_major": 2,
       "version_minor": 0
      },
      "text/plain": [
       "HBox(children=(IntProgress(value=0, max=511), HTML(value='')))"
      ]
     },
     "metadata": {},
     "output_type": "display_data"
    }
   ],
   "source": [
    "test = lone_pine_all\n",
    "new_error = []\n",
    "for index in tqdm_notebook(error.index):\n",
    "    each = error.loc[index]\n",
    "    df = crsp_data[crsp_data['Ticker']==each['Ticker']]\n",
    "    try:\n",
    "        if int(each['Date']) > int(list(df['Date'])[-1]):\n",
    "            test = test.drop(index)\n",
    "    except:\n",
    "        new_error.append(list(each))\n",
    "lone_pine_all = test"
   ]
  },
  {
   "cell_type": "code",
   "execution_count": 519,
   "metadata": {
    "scrolled": true
   },
   "outputs": [],
   "source": [
    "pd.DataFrame(new_error).to_csv('error.csv', index=False)"
   ]
  },
  {
   "cell_type": "code",
   "execution_count": null,
   "metadata": {},
   "outputs": [],
   "source": []
  },
  {
   "cell_type": "markdown",
   "metadata": {},
   "source": [
    "# revenue"
   ]
  },
  {
   "cell_type": "code",
   "execution_count": 536,
   "metadata": {
    "scrolled": true
   },
   "outputs": [
    {
     "data": {
      "application/vnd.jupyter.widget-view+json": {
       "model_id": "42d330326a9444e3b508e02892d3fd82",
       "version_major": 2,
       "version_minor": 0
      },
      "text/plain": [
       "HBox(children=(IntProgress(value=0, max=10174), HTML(value='')))"
      ]
     },
     "metadata": {},
     "output_type": "display_data"
    }
   ],
   "source": [
    "lone_pine_all_t = lone_pine_all\n",
    "for index in tqdm_notebook(lone_pine_all.index):\n",
    "    each_data = lone_pine_all.loc[index]\n",
    "    if each_data['Shares'] == 0 and each_data['Change'] == 0 and each_data['Value'] == 0 and each_data['Change.1'] == 0:\n",
    "        lone_pine_all_t.drop(index, inplace=True)\n",
    "lone_pine_all = lone_pine_all_t"
   ]
  },
  {
   "cell_type": "code",
   "execution_count": 571,
   "metadata": {
    "scrolled": true
   },
   "outputs": [],
   "source": [
    "def prc_price(df):\n",
    "    if np.isnan(df['PRC']):\n",
    "        return df['price']\n",
    "    else:\n",
    "        return df['PRC']\n",
    "lone_pine_all['PRC'] = lone_pine_all.apply(prc_price, axis=1)"
   ]
  },
  {
   "cell_type": "code",
   "execution_count": 574,
   "metadata": {
    "scrolled": true
   },
   "outputs": [],
   "source": [
    "def prc_price(df):\n",
    "    if np.isnan(df['last_PRC']):\n",
    "        return df['last_price']\n",
    "    else:\n",
    "        return df['last_PRC']\n",
    "lone_pine_all['last_PRC'] = lone_pine_all.apply(prc_price, axis=1)"
   ]
  },
  {
   "cell_type": "code",
   "execution_count": 577,
   "metadata": {
    "scrolled": true
   },
   "outputs": [],
   "source": [
    "lone_pine_all.drop(['Class_x', 'price', 'last_price', 'price'], axis=1, inplace=True)\n",
    "lone_pine_all.columns = ['Name', 'Ticker', 'Shares', 'Shares_Change', 'Value', 'Value_Change', 'Date', 'Price',\n",
    "                         'Class', 'Last_Price']"
   ]
  },
  {
   "cell_type": "code",
   "execution_count": 1088,
   "metadata": {
    "collapsed": true
   },
   "outputs": [
    {
     "name": "stderr",
     "output_type": "stream",
     "text": [
      "C:\\Users\\wells\\AppData\\Local\\Continuum\\anaconda3\\lib\\site-packages\\ipykernel_launcher.py:2: SettingWithCopyWarning: \n",
      "A value is trying to be set on a copy of a slice from a DataFrame.\n",
      "Try using .loc[row_indexer,col_indexer] = value instead\n",
      "\n",
      "See the caveats in the documentation: http://pandas.pydata.org/pandas-docs/stable/indexing.html#indexing-view-versus-copy\n",
      "  \n"
     ]
    }
   ],
   "source": [
    "new_share = lone_pine_all[lone_pine_all['Shares']==lone_pine_all['Shares_Change']]\n",
    "new_share['New_Value'] = new_share['Shares'] * new_share['Price']"
   ]
  },
  {
   "cell_type": "code",
   "execution_count": 1089,
   "metadata": {},
   "outputs": [],
   "source": [
    "new_share.to_csv('new_share.csv', index=False)"
   ]
  },
  {
   "cell_type": "code",
   "execution_count": 1090,
   "metadata": {
    "collapsed": true
   },
   "outputs": [
    {
     "name": "stderr",
     "output_type": "stream",
     "text": [
      "C:\\Users\\wells\\AppData\\Local\\Continuum\\anaconda3\\lib\\site-packages\\ipykernel_launcher.py:2: SettingWithCopyWarning: \n",
      "A value is trying to be set on a copy of a slice from a DataFrame.\n",
      "Try using .loc[row_indexer,col_indexer] = value instead\n",
      "\n",
      "See the caveats in the documentation: http://pandas.pydata.org/pandas-docs/stable/indexing.html#indexing-view-versus-copy\n",
      "  \n"
     ]
    }
   ],
   "source": [
    "sell_share = lone_pine_all[lone_pine_all['Shares']==0]\n",
    "sell_share['New_Value'] = sell_share['Shares_Change'] * sell_share['Price']"
   ]
  },
  {
   "cell_type": "code",
   "execution_count": 1091,
   "metadata": {},
   "outputs": [],
   "source": [
    "sell_share.to_csv('sell_share.csv', index=False)"
   ]
  },
  {
   "cell_type": "code",
   "execution_count": 1092,
   "metadata": {},
   "outputs": [],
   "source": [
    "more_share = lone_pine_all[lone_pine_all['Shares_Change']>0].loc[lone_pine_all['Shares']!=lone_pine_all['Shares_Change']]\n",
    "more_share['New_Value'] = more_share['Shares'] * more_share['Price']"
   ]
  },
  {
   "cell_type": "code",
   "execution_count": 1093,
   "metadata": {},
   "outputs": [],
   "source": [
    "more_share.to_csv('more_share.csv', index=False)"
   ]
  },
  {
   "cell_type": "code",
   "execution_count": 1094,
   "metadata": {},
   "outputs": [],
   "source": [
    "less_share = lone_pine_all[lone_pine_all['Shares_Change']<0].loc[lone_pine_all['Shares']!=0]\n",
    "less_share['New_Value'] = (less_share['Shares'] + abs(less_share['Shares_Change'])) * less_share['Price']"
   ]
  },
  {
   "cell_type": "code",
   "execution_count": 1095,
   "metadata": {},
   "outputs": [],
   "source": [
    "less_share.to_csv('less_share.csv', index=False)"
   ]
  },
  {
   "cell_type": "code",
   "execution_count": 1105,
   "metadata": {
    "collapsed": true
   },
   "outputs": [
    {
     "name": "stderr",
     "output_type": "stream",
     "text": [
      "C:\\Users\\wells\\AppData\\Local\\Continuum\\anaconda3\\lib\\site-packages\\ipykernel_launcher.py:2: SettingWithCopyWarning: \n",
      "A value is trying to be set on a copy of a slice from a DataFrame.\n",
      "Try using .loc[row_indexer,col_indexer] = value instead\n",
      "\n",
      "See the caveats in the documentation: http://pandas.pydata.org/pandas-docs/stable/indexing.html#indexing-view-versus-copy\n",
      "  \n"
     ]
    }
   ],
   "source": [
    "same_share = lone_pine_all[lone_pine_all['Shares_Change']==0]\n",
    "same_share['New_Value'] = same_share['Shares'] * same_share['Price']"
   ]
  },
  {
   "cell_type": "code",
   "execution_count": 1106,
   "metadata": {},
   "outputs": [],
   "source": [
    "same_share.to_csv('same_share.csv', index=False)"
   ]
  },
  {
   "cell_type": "code",
   "execution_count": 1122,
   "metadata": {},
   "outputs": [],
   "source": [
    "total_asset = []\n",
    "for date in list(set(lone_pine_all['Date'])):\n",
    "    new_share_d = new_share[new_share['Date']==date]\n",
    "    sell_share_d = sell_share[sell_share['Date']==date]\n",
    "    more_share_d = more_share[more_share['Date']==date]\n",
    "    less_share_d = less_share[less_share['Date']==date]\n",
    "    same_share_d = same_share[same_share['Date']==date]\n",
    "    total_asset.append(sum(new_share_d['New_Value'])+abs(sum(sell_share_d['New_Value']))+sum(more_share_d['New_Value'])+sum(less_share_d['New_Value'])+sum(same_share_d['New_Value']))"
   ]
  },
  {
   "cell_type": "code",
   "execution_count": 1149,
   "metadata": {
    "collapsed": true
   },
   "outputs": [
    {
     "name": "stderr",
     "output_type": "stream",
     "text": [
      "C:\\Users\\wells\\AppData\\Local\\Continuum\\anaconda3\\lib\\site-packages\\ipykernel_launcher.py:10: SettingWithCopyWarning: \n",
      "A value is trying to be set on a copy of a slice from a DataFrame.\n",
      "Try using .loc[row_indexer,col_indexer] = value instead\n",
      "\n",
      "See the caveats in the documentation: http://pandas.pydata.org/pandas-docs/stable/indexing.html#indexing-view-versus-copy\n",
      "  # Remove the CWD from sys.path while we load stuff.\n",
      "C:\\Users\\wells\\AppData\\Local\\Continuum\\anaconda3\\lib\\site-packages\\ipykernel_launcher.py:13: SettingWithCopyWarning: \n",
      "A value is trying to be set on a copy of a slice from a DataFrame.\n",
      "Try using .loc[row_indexer,col_indexer] = value instead\n",
      "\n",
      "See the caveats in the documentation: http://pandas.pydata.org/pandas-docs/stable/indexing.html#indexing-view-versus-copy\n",
      "  del sys.path[0]\n"
     ]
    }
   ],
   "source": [
    "revenue = []\n",
    "for date in list(set(lone_pine_all['Date'])):\n",
    "    second = lone_pine_all[lone_pine_all['Date']==date]\n",
    "\n",
    "    sell_shares = second[second['Shares']==0]\n",
    "    more_shares = second[second['Shares_Change']>0].loc[second['Shares']!=second['Shares_Change']]\n",
    "    less_shares = second[second['Shares_Change']<0].loc[second['Shares']!=0]\n",
    "    same_shares = second[second['Shares_Change']==0]\n",
    "\n",
    "    sell_shares['diff'] = abs(sell_shares['Shares_Change']) * (sell_shares['Price'] - sell_shares['Last_Price'])\n",
    "    more_shares['diff'] = (more_shares['Shares'] - more_shares['Shares_Change']) * (more_shares['Price'] - more_shares['Last_Price'])\n",
    "    less_shares['diff'] = (less_shares['Shares'] + abs(less_shares['Shares_Change'])) * (less_shares['Price'] - less_shares['Last_Price'])\n",
    "    same_shares['diff'] = same_shares['Shares'] * (same_shares['Price'] - same_shares['Last_Price'])\n",
    "    \n",
    "    sell_shares = sell_shares[sell_shares['diff'].notnull()]\n",
    "    more_shares = more_shares[more_shares['diff'].notnull()]\n",
    "    less_shares = less_shares[less_shares['diff'].notnull()]\n",
    "    same_shares = same_shares[same_shares['diff'].notnull()]\n",
    "    \n",
    "    revenue.append(sum(sell_shares['diff']) + sum(more_shares['diff']) + sum(less_shares['diff']) + sum(same_shares['diff']))"
   ]
  },
  {
   "cell_type": "code",
   "execution_count": 1150,
   "metadata": {
    "scrolled": true
   },
   "outputs": [],
   "source": [
    "revenue_df = pd.DataFrame({'date':list(set(lone_pine_all['Date'])),\n",
    "                          'asset':total_asset,\n",
    "                          'revenue':revenue})"
   ]
  },
  {
   "cell_type": "code",
   "execution_count": 1151,
   "metadata": {
    "scrolled": true
   },
   "outputs": [],
   "source": [
    "revenue_df['return_rate'] = round(revenue_df['revenue'] / revenue_df['asset'] * 100, 3)"
   ]
  },
  {
   "cell_type": "code",
   "execution_count": 1153,
   "metadata": {
    "scrolled": true
   },
   "outputs": [],
   "source": [
    "fama = pd.read_csv('fama.csv')\n",
    "fama['date'] = fama['date'].astype('str')\n",
    "\n",
    "fama_3 = fama.merge(revenue_df[['date', 'return_rate']], on='date', how='left')\n",
    "\n",
    "fama_3 = fama_3[fama_3['return_rate'].notnull()]\n",
    "\n",
    "fama_3['return_rate'] = fama_3['return_rate'] - fama_3['RF']"
   ]
  },
  {
   "cell_type": "code",
   "execution_count": 1154,
   "metadata": {},
   "outputs": [],
   "source": [
    "fama = pd.read_csv('fama5.csv')\n",
    "fama['date'] = fama['date'].astype('str')\n",
    "\n",
    "fama_5 = fama.merge(revenue_df[['date', 'return_rate']], on='date', how='left')\n",
    "\n",
    "fama_5 = fama_5[fama_5['return_rate'].notnull()]\n",
    "\n",
    "fama_5['return_rate'] = fama_5['return_rate'] - fama_5['RF']"
   ]
  },
  {
   "cell_type": "markdown",
   "metadata": {},
   "source": [
    "# lasso"
   ]
  },
  {
   "cell_type": "code",
   "execution_count": 1155,
   "metadata": {
    "scrolled": true
   },
   "outputs": [],
   "source": [
    "from sklearn.linear_model import Lasso\n",
    "from sklearn.metrics import r2_score\n",
    "from sklearn.model_selection import train_test_split\n",
    "from sklearn.preprocessing import StandardScaler\n",
    "from sklearn.metrics import accuracy_score\n",
    "from sklearn.metrics import mean_squared_error"
   ]
  },
  {
   "cell_type": "code",
   "execution_count": 1201,
   "metadata": {},
   "outputs": [],
   "source": [
    "x = fama_3[['Mkt-RF', 'SMB', 'HML']]\n",
    "y = fama_3[['return_rate']]\n",
    "x_train, x_test, y_train, y_test = train_test_split(x, y, test_size=0.25)\n",
    "\n",
    "sc = StandardScaler()\n",
    "sc.fit(x_train)  #可以使用計算得到的均值和方差來對訓練資料做標準化處理\n",
    "x_train_std = sc.transform(x_train)\n",
    "x_test_std = sc.transform(x_test)"
   ]
  },
  {
   "cell_type": "code",
   "execution_count": 1202,
   "metadata": {
    "scrolled": true
   },
   "outputs": [],
   "source": [
    "alpha_df = pd.DataFrame(columns=['alpha', 'coef1', 'coef2', 'coef3', 'train_score', 'test_score', 'e', 'coeff_used'])\n",
    "alpha = 5\n",
    "while alpha > 0.001:\n",
    "    lasso = Lasso(alpha)\n",
    "    lasso.fit(x_train_std, y_train['return_rate'].values)\n",
    "    y_predict_train = lasso.predict(x_train_std)\n",
    "    score_train = r2_score(y_train['return_rate'].values, y_predict_train)\n",
    "    y_predict = lasso.predict(x_test_std)\n",
    "    score = r2_score(y_test['return_rate'].values, y_predict)\n",
    "    coeff_used = np.sum(lasso.coef_!=0)\n",
    "    e = mean_squared_error(y_test['return_rate'].values, y_predict)\n",
    "    alpha_df.loc[-1] = [alpha] + list(lasso.coef_) + [score_train, score, e, coeff_used]\n",
    "    alpha_df = alpha_df.reset_index(drop=True)\n",
    "    alpha = alpha - 0.001"
   ]
  },
  {
   "cell_type": "code",
   "execution_count": 1212,
   "metadata": {
    "scrolled": true
   },
   "outputs": [
    {
     "data": {
      "text/html": [
       "<div>\n",
       "<style scoped>\n",
       "    .dataframe tbody tr th:only-of-type {\n",
       "        vertical-align: middle;\n",
       "    }\n",
       "\n",
       "    .dataframe tbody tr th {\n",
       "        vertical-align: top;\n",
       "    }\n",
       "\n",
       "    .dataframe thead th {\n",
       "        text-align: right;\n",
       "    }\n",
       "</style>\n",
       "<table border=\"1\" class=\"dataframe\">\n",
       "  <thead>\n",
       "    <tr style=\"text-align: right;\">\n",
       "      <th></th>\n",
       "      <th>alpha</th>\n",
       "      <th>coef1</th>\n",
       "      <th>coef2</th>\n",
       "      <th>coef3</th>\n",
       "      <th>train_score</th>\n",
       "      <th>test_score</th>\n",
       "      <th>e</th>\n",
       "      <th>coeff_used</th>\n",
       "    </tr>\n",
       "  </thead>\n",
       "  <tbody>\n",
       "    <tr>\n",
       "      <th>0</th>\n",
       "      <td>5.000</td>\n",
       "      <td>18.538332</td>\n",
       "      <td>-28.314405</td>\n",
       "      <td>-0.0</td>\n",
       "      <td>0.017308</td>\n",
       "      <td>-58.303747</td>\n",
       "      <td>973.518807</td>\n",
       "      <td>2.0</td>\n",
       "    </tr>\n",
       "    <tr>\n",
       "      <th>1</th>\n",
       "      <td>4.999</td>\n",
       "      <td>18.539789</td>\n",
       "      <td>-28.315861</td>\n",
       "      <td>-0.0</td>\n",
       "      <td>0.017309</td>\n",
       "      <td>-58.306749</td>\n",
       "      <td>973.568089</td>\n",
       "      <td>2.0</td>\n",
       "    </tr>\n",
       "    <tr>\n",
       "      <th>2</th>\n",
       "      <td>4.998</td>\n",
       "      <td>18.541245</td>\n",
       "      <td>-28.317318</td>\n",
       "      <td>-0.0</td>\n",
       "      <td>0.017309</td>\n",
       "      <td>-58.309751</td>\n",
       "      <td>973.617374</td>\n",
       "      <td>2.0</td>\n",
       "    </tr>\n",
       "    <tr>\n",
       "      <th>3</th>\n",
       "      <td>4.997</td>\n",
       "      <td>18.542702</td>\n",
       "      <td>-28.318774</td>\n",
       "      <td>-0.0</td>\n",
       "      <td>0.017310</td>\n",
       "      <td>-58.312754</td>\n",
       "      <td>973.666661</td>\n",
       "      <td>2.0</td>\n",
       "    </tr>\n",
       "    <tr>\n",
       "      <th>4</th>\n",
       "      <td>4.996</td>\n",
       "      <td>18.544158</td>\n",
       "      <td>-28.320230</td>\n",
       "      <td>-0.0</td>\n",
       "      <td>0.017310</td>\n",
       "      <td>-58.315756</td>\n",
       "      <td>973.715951</td>\n",
       "      <td>2.0</td>\n",
       "    </tr>\n",
       "    <tr>\n",
       "      <th>5</th>\n",
       "      <td>4.995</td>\n",
       "      <td>18.545614</td>\n",
       "      <td>-28.321687</td>\n",
       "      <td>-0.0</td>\n",
       "      <td>0.017310</td>\n",
       "      <td>-58.318759</td>\n",
       "      <td>973.765243</td>\n",
       "      <td>2.0</td>\n",
       "    </tr>\n",
       "  </tbody>\n",
       "</table>\n",
       "</div>"
      ],
      "text/plain": [
       "   alpha      coef1      coef2  coef3  train_score  test_score           e  \\\n",
       "0  5.000  18.538332 -28.314405   -0.0     0.017308  -58.303747  973.518807   \n",
       "1  4.999  18.539789 -28.315861   -0.0     0.017309  -58.306749  973.568089   \n",
       "2  4.998  18.541245 -28.317318   -0.0     0.017309  -58.309751  973.617374   \n",
       "3  4.997  18.542702 -28.318774   -0.0     0.017310  -58.312754  973.666661   \n",
       "4  4.996  18.544158 -28.320230   -0.0     0.017310  -58.315756  973.715951   \n",
       "5  4.995  18.545614 -28.321687   -0.0     0.017310  -58.318759  973.765243   \n",
       "\n",
       "   coeff_used  \n",
       "0         2.0  \n",
       "1         2.0  \n",
       "2         2.0  \n",
       "3         2.0  \n",
       "4         2.0  \n",
       "5         2.0  "
      ]
     },
     "execution_count": 1212,
     "metadata": {},
     "output_type": "execute_result"
    }
   ],
   "source": [
    "alpha_df.sort_values(by='test_score', ascending=False)[0:6]"
   ]
  },
  {
   "cell_type": "code",
   "execution_count": 802,
   "metadata": {},
   "outputs": [
    {
     "name": "stdout",
     "output_type": "stream",
     "text": [
      "Y = -5.249 * X0 + 21.391 * X1 + 15.716 * X2\n"
     ]
    }
   ],
   "source": [
    "def pretty_print_linear(coefs, names = None, sort = False):  \n",
    "    if names == None:  \n",
    "        names = [\"X%s\" % x for x in range(len(coefs))]  \n",
    "    lst = zip(coefs, names)  \n",
    "    if sort:  \n",
    "        lst = sorted(lst,  key = lambda x:-np.abs(x[0]))  \n",
    "    return \" + \".join(\"%s * %s\" % (round(coef, 3), name)  \n",
    "                                   for coef, name in lst)  \n",
    " \n",
    " \n",
    " \n",
    "print('Y = '+ pretty_print_linear(lasso.coef_))"
   ]
  },
  {
   "cell_type": "markdown",
   "metadata": {},
   "source": [
    "fama5"
   ]
  },
  {
   "cell_type": "code",
   "execution_count": 1213,
   "metadata": {},
   "outputs": [],
   "source": [
    "x = fama_5[['Mkt-RF', 'SMB', 'RMW', 'CMA', 'HML']]\n",
    "y = fama_5[['return_rate']]\n",
    "x_train, x_test, y_train, y_test = train_test_split(x, y, test_size=0.25)\n",
    "\n",
    "sc = StandardScaler()\n",
    "sc.fit(x_train)  #可以使用計算得到的均值和方差來對訓練資料做標準化處理\n",
    "x_train_std = sc.transform(x_train)\n",
    "x_test_std = sc.transform(x_test)"
   ]
  },
  {
   "cell_type": "code",
   "execution_count": 1214,
   "metadata": {},
   "outputs": [],
   "source": [
    "alpha_df = pd.DataFrame(columns=['alpha', 'coef1', 'coef2', 'coef3', 'coef4', 'coef5', 'train_score', 'test_score', 'e', 'coeff_used'])\n",
    "alpha = 5\n",
    "while alpha > 0.001:\n",
    "    lasso = Lasso(alpha)\n",
    "    lasso.fit(x_train_std, y_train['return_rate'].values)\n",
    "    y_predict_train = lasso.predict(x_train_std)\n",
    "    score_train=r2_score(y_train['return_rate'].values, y_predict_train)\n",
    "    y_predict = lasso.predict(x_test_std)\n",
    "    score=r2_score(y_test['return_rate'].values, y_predict)\n",
    "    e = mean_squared_error(y_test['return_rate'].values, y_predict)\n",
    "    coeff_used = np.sum(lasso.coef_!=0)\n",
    "    alpha_df.loc[-1] = [alpha] + list(lasso.coef_) + [score_train, score, e, coeff_used]\n",
    "    alpha_df = alpha_df.reset_index(drop=True)\n",
    "    alpha = alpha - 0.001"
   ]
  },
  {
   "cell_type": "code",
   "execution_count": 1215,
   "metadata": {
    "scrolled": true
   },
   "outputs": [
    {
     "data": {
      "text/html": [
       "<div>\n",
       "<style scoped>\n",
       "    .dataframe tbody tr th:only-of-type {\n",
       "        vertical-align: middle;\n",
       "    }\n",
       "\n",
       "    .dataframe tbody tr th {\n",
       "        vertical-align: top;\n",
       "    }\n",
       "\n",
       "    .dataframe thead th {\n",
       "        text-align: right;\n",
       "    }\n",
       "</style>\n",
       "<table border=\"1\" class=\"dataframe\">\n",
       "  <thead>\n",
       "    <tr style=\"text-align: right;\">\n",
       "      <th></th>\n",
       "      <th>alpha</th>\n",
       "      <th>coef1</th>\n",
       "      <th>coef2</th>\n",
       "      <th>coef3</th>\n",
       "      <th>coef4</th>\n",
       "      <th>coef5</th>\n",
       "      <th>train_score</th>\n",
       "      <th>test_score</th>\n",
       "      <th>e</th>\n",
       "      <th>coeff_used</th>\n",
       "    </tr>\n",
       "  </thead>\n",
       "  <tbody>\n",
       "    <tr>\n",
       "      <th>0</th>\n",
       "      <td>5.000</td>\n",
       "      <td>20.204067</td>\n",
       "      <td>-29.259650</td>\n",
       "      <td>-0.0</td>\n",
       "      <td>4.634907</td>\n",
       "      <td>0.0</td>\n",
       "      <td>0.018094</td>\n",
       "      <td>-35.273523</td>\n",
       "      <td>863.294319</td>\n",
       "      <td>3.0</td>\n",
       "    </tr>\n",
       "    <tr>\n",
       "      <th>1</th>\n",
       "      <td>4.999</td>\n",
       "      <td>20.205781</td>\n",
       "      <td>-29.261388</td>\n",
       "      <td>-0.0</td>\n",
       "      <td>4.636059</td>\n",
       "      <td>0.0</td>\n",
       "      <td>0.018095</td>\n",
       "      <td>-35.275834</td>\n",
       "      <td>863.349329</td>\n",
       "      <td>3.0</td>\n",
       "    </tr>\n",
       "    <tr>\n",
       "      <th>2</th>\n",
       "      <td>4.998</td>\n",
       "      <td>20.207495</td>\n",
       "      <td>-29.263126</td>\n",
       "      <td>-0.0</td>\n",
       "      <td>4.637211</td>\n",
       "      <td>0.0</td>\n",
       "      <td>0.018096</td>\n",
       "      <td>-35.278146</td>\n",
       "      <td>863.404345</td>\n",
       "      <td>3.0</td>\n",
       "    </tr>\n",
       "    <tr>\n",
       "      <th>3</th>\n",
       "      <td>4.997</td>\n",
       "      <td>20.209209</td>\n",
       "      <td>-29.264863</td>\n",
       "      <td>-0.0</td>\n",
       "      <td>4.638362</td>\n",
       "      <td>0.0</td>\n",
       "      <td>0.018096</td>\n",
       "      <td>-35.280457</td>\n",
       "      <td>863.459367</td>\n",
       "      <td>3.0</td>\n",
       "    </tr>\n",
       "    <tr>\n",
       "      <th>4</th>\n",
       "      <td>4.996</td>\n",
       "      <td>20.210923</td>\n",
       "      <td>-29.266601</td>\n",
       "      <td>-0.0</td>\n",
       "      <td>4.639514</td>\n",
       "      <td>0.0</td>\n",
       "      <td>0.018097</td>\n",
       "      <td>-35.282770</td>\n",
       "      <td>863.514396</td>\n",
       "      <td>3.0</td>\n",
       "    </tr>\n",
       "    <tr>\n",
       "      <th>5</th>\n",
       "      <td>4.995</td>\n",
       "      <td>20.212637</td>\n",
       "      <td>-29.268339</td>\n",
       "      <td>-0.0</td>\n",
       "      <td>4.640666</td>\n",
       "      <td>0.0</td>\n",
       "      <td>0.018098</td>\n",
       "      <td>-35.285082</td>\n",
       "      <td>863.569430</td>\n",
       "      <td>3.0</td>\n",
       "    </tr>\n",
       "  </tbody>\n",
       "</table>\n",
       "</div>"
      ],
      "text/plain": [
       "   alpha      coef1      coef2  coef3     coef4  coef5  train_score  \\\n",
       "0  5.000  20.204067 -29.259650   -0.0  4.634907    0.0     0.018094   \n",
       "1  4.999  20.205781 -29.261388   -0.0  4.636059    0.0     0.018095   \n",
       "2  4.998  20.207495 -29.263126   -0.0  4.637211    0.0     0.018096   \n",
       "3  4.997  20.209209 -29.264863   -0.0  4.638362    0.0     0.018096   \n",
       "4  4.996  20.210923 -29.266601   -0.0  4.639514    0.0     0.018097   \n",
       "5  4.995  20.212637 -29.268339   -0.0  4.640666    0.0     0.018098   \n",
       "\n",
       "   test_score           e  coeff_used  \n",
       "0  -35.273523  863.294319         3.0  \n",
       "1  -35.275834  863.349329         3.0  \n",
       "2  -35.278146  863.404345         3.0  \n",
       "3  -35.280457  863.459367         3.0  \n",
       "4  -35.282770  863.514396         3.0  \n",
       "5  -35.285082  863.569430         3.0  "
      ]
     },
     "execution_count": 1215,
     "metadata": {},
     "output_type": "execute_result"
    }
   ],
   "source": [
    "alpha_df.sort_values(by='test_score', ascending=False)[0:6]"
   ]
  },
  {
   "cell_type": "code",
   "execution_count": 792,
   "metadata": {},
   "outputs": [
    {
     "name": "stdout",
     "output_type": "stream",
     "text": [
      "Y = 8.346 * X0 + -0.0 * X1 + 0.0 * X2 + 2.105 * X3 + -0.0 * X4\n"
     ]
    }
   ],
   "source": [
    "def pretty_print_linear(coefs, names = None, sort = False):  \n",
    "    if names == None:  \n",
    "        names = [\"X%s\" % x for x in range(len(coefs))]  \n",
    "    lst = zip(coefs, names)  \n",
    "    if sort:  \n",
    "        lst = sorted(lst,  key = lambda x:-np.abs(x[0]))  \n",
    "    return \" + \".join(\"%s * %s\" % (round(coef, 3), name)  \n",
    "                                   for coef, name in lst)  \n",
    " \n",
    " \n",
    " \n",
    "print('Y = '+ pretty_print_linear(lasso.coef_))"
   ]
  },
  {
   "cell_type": "markdown",
   "metadata": {},
   "source": [
    "# Ridge"
   ]
  },
  {
   "cell_type": "code",
   "execution_count": 847,
   "metadata": {},
   "outputs": [],
   "source": [
    "from sklearn.linear_model import Ridge"
   ]
  },
  {
   "cell_type": "code",
   "execution_count": 1216,
   "metadata": {},
   "outputs": [],
   "source": [
    "x = fama_3[['Mkt-RF', 'SMB', 'HML']]\n",
    "y = fama_3[['return_rate']]\n",
    "x_train, x_test, y_train, y_test = train_test_split(x, y, test_size=0.25)\n",
    "\n",
    "sc = StandardScaler()\n",
    "sc.fit(x_train)  #可以使用計算得到的均值和方差來對訓練資料做標準化處理\n",
    "x_train_std = sc.transform(x_train)\n",
    "x_test_std = sc.transform(x_test)"
   ]
  },
  {
   "cell_type": "code",
   "execution_count": 1217,
   "metadata": {},
   "outputs": [],
   "source": [
    "alpha_df = pd.DataFrame(columns=['alpha', 'coef1', 'coef2', 'coef3', 'train_score', 'test_score', 'e', 'coeff_used'])\n",
    "alpha = 5\n",
    "while alpha >= 0.001:\n",
    "    rr = Ridge(alpha)\n",
    "    rr.fit(x_train_std, y_train['return_rate'].values)\n",
    "    y_predict_train = rr.predict(x_train_std)\n",
    "    score_train = r2_score(y_train['return_rate'].values, y_predict_train)\n",
    "    y_predict = rr.predict(x_test_std)\n",
    "    score=r2_score(y_test['return_rate'].values, y_predict)\n",
    "    e = mean_squared_error(y_test['return_rate'].values, y_predict)\n",
    "    coeff_used = np.sum(rr.coef_!=0)\n",
    "    alpha_df.loc[-1] = [alpha] + list(rr.coef_) + [score_train, score, e, coeff_used]\n",
    "    alpha_df = alpha_df.reset_index(drop=True)\n",
    "    alpha = alpha - 0.001"
   ]
  },
  {
   "cell_type": "code",
   "execution_count": 1218,
   "metadata": {
    "scrolled": true
   },
   "outputs": [
    {
     "data": {
      "text/html": [
       "<div>\n",
       "<style scoped>\n",
       "    .dataframe tbody tr th:only-of-type {\n",
       "        vertical-align: middle;\n",
       "    }\n",
       "\n",
       "    .dataframe tbody tr th {\n",
       "        vertical-align: top;\n",
       "    }\n",
       "\n",
       "    .dataframe thead th {\n",
       "        text-align: right;\n",
       "    }\n",
       "</style>\n",
       "<table border=\"1\" class=\"dataframe\">\n",
       "  <thead>\n",
       "    <tr style=\"text-align: right;\">\n",
       "      <th></th>\n",
       "      <th>alpha</th>\n",
       "      <th>coef1</th>\n",
       "      <th>coef2</th>\n",
       "      <th>coef3</th>\n",
       "      <th>train_score</th>\n",
       "      <th>test_score</th>\n",
       "      <th>e</th>\n",
       "      <th>coeff_used</th>\n",
       "    </tr>\n",
       "  </thead>\n",
       "  <tbody>\n",
       "    <tr>\n",
       "      <th>0</th>\n",
       "      <td>5.000</td>\n",
       "      <td>28.801402</td>\n",
       "      <td>-41.378399</td>\n",
       "      <td>-4.473687</td>\n",
       "      <td>0.023725</td>\n",
       "      <td>-131.492857</td>\n",
       "      <td>3367.294562</td>\n",
       "      <td>3.0</td>\n",
       "    </tr>\n",
       "    <tr>\n",
       "      <th>1</th>\n",
       "      <td>4.999</td>\n",
       "      <td>28.801801</td>\n",
       "      <td>-41.378837</td>\n",
       "      <td>-4.473806</td>\n",
       "      <td>0.023725</td>\n",
       "      <td>-131.495239</td>\n",
       "      <td>3367.355103</td>\n",
       "      <td>3.0</td>\n",
       "    </tr>\n",
       "    <tr>\n",
       "      <th>2</th>\n",
       "      <td>4.998</td>\n",
       "      <td>28.802201</td>\n",
       "      <td>-41.379274</td>\n",
       "      <td>-4.473926</td>\n",
       "      <td>0.023725</td>\n",
       "      <td>-131.497621</td>\n",
       "      <td>3367.415645</td>\n",
       "      <td>3.0</td>\n",
       "    </tr>\n",
       "    <tr>\n",
       "      <th>3</th>\n",
       "      <td>4.997</td>\n",
       "      <td>28.802600</td>\n",
       "      <td>-41.379712</td>\n",
       "      <td>-4.474045</td>\n",
       "      <td>0.023725</td>\n",
       "      <td>-131.500003</td>\n",
       "      <td>3367.476190</td>\n",
       "      <td>3.0</td>\n",
       "    </tr>\n",
       "    <tr>\n",
       "      <th>4</th>\n",
       "      <td>4.996</td>\n",
       "      <td>28.803000</td>\n",
       "      <td>-41.380149</td>\n",
       "      <td>-4.474165</td>\n",
       "      <td>0.023725</td>\n",
       "      <td>-131.502386</td>\n",
       "      <td>3367.536736</td>\n",
       "      <td>3.0</td>\n",
       "    </tr>\n",
       "    <tr>\n",
       "      <th>5</th>\n",
       "      <td>4.995</td>\n",
       "      <td>28.803399</td>\n",
       "      <td>-41.380587</td>\n",
       "      <td>-4.474284</td>\n",
       "      <td>0.023725</td>\n",
       "      <td>-131.504768</td>\n",
       "      <td>3367.597285</td>\n",
       "      <td>3.0</td>\n",
       "    </tr>\n",
       "  </tbody>\n",
       "</table>\n",
       "</div>"
      ],
      "text/plain": [
       "   alpha      coef1      coef2     coef3  train_score  test_score  \\\n",
       "0  5.000  28.801402 -41.378399 -4.473687     0.023725 -131.492857   \n",
       "1  4.999  28.801801 -41.378837 -4.473806     0.023725 -131.495239   \n",
       "2  4.998  28.802201 -41.379274 -4.473926     0.023725 -131.497621   \n",
       "3  4.997  28.802600 -41.379712 -4.474045     0.023725 -131.500003   \n",
       "4  4.996  28.803000 -41.380149 -4.474165     0.023725 -131.502386   \n",
       "5  4.995  28.803399 -41.380587 -4.474284     0.023725 -131.504768   \n",
       "\n",
       "             e  coeff_used  \n",
       "0  3367.294562         3.0  \n",
       "1  3367.355103         3.0  \n",
       "2  3367.415645         3.0  \n",
       "3  3367.476190         3.0  \n",
       "4  3367.536736         3.0  \n",
       "5  3367.597285         3.0  "
      ]
     },
     "execution_count": 1218,
     "metadata": {},
     "output_type": "execute_result"
    }
   ],
   "source": [
    "alpha_df.sort_values(by='test_score', ascending=False)[0:6]"
   ]
  },
  {
   "cell_type": "code",
   "execution_count": 1219,
   "metadata": {},
   "outputs": [],
   "source": [
    "x = fama_5[['Mkt-RF', 'SMB', 'RMW', 'CMA', 'HML']]\n",
    "y = fama_5[['return_rate']]\n",
    "x_train, x_test, y_train, y_test = train_test_split(x, y, test_size=0.25)\n",
    "\n",
    "sc = StandardScaler()\n",
    "sc.fit(x_train)  #可以使用計算得到的均值和方差來對訓練資料做標準化處理\n",
    "x_train_std = sc.transform(x_train)\n",
    "x_test_std = sc.transform(x_test)"
   ]
  },
  {
   "cell_type": "code",
   "execution_count": 1220,
   "metadata": {},
   "outputs": [],
   "source": [
    "alpha_df = pd.DataFrame(columns=['alpha', 'coef1', 'coef2', 'coef3', 'coef4', 'coef5', 'train_score', 'test_score', 'e', 'coeff_used'])\n",
    "alpha = 5\n",
    "while alpha >= 0.001:\n",
    "    rr = Ridge(alpha)\n",
    "    rr.fit(x_train_std, y_train['return_rate'].values)\n",
    "    y_predict_train = rr.predict(x_train_std)\n",
    "    score_train = r2_score(y_train['return_rate'].values, y_predict_train)\n",
    "    y_predict = rr.predict(x_test_std)\n",
    "    score=r2_score(y_test['return_rate'].values, y_predict)\n",
    "    e = mean_squared_error(y_test['return_rate'].values, y_predict)\n",
    "    coeff_used = np.sum(rr.coef_!=0)\n",
    "    alpha_df.loc[-1] = [alpha] + list(rr.coef_) + [score_train, score, e, coeff_used]\n",
    "    alpha_df = alpha_df.reset_index(drop=True)\n",
    "    alpha = alpha - 0.001"
   ]
  },
  {
   "cell_type": "code",
   "execution_count": 1221,
   "metadata": {
    "scrolled": true
   },
   "outputs": [
    {
     "data": {
      "text/html": [
       "<div>\n",
       "<style scoped>\n",
       "    .dataframe tbody tr th:only-of-type {\n",
       "        vertical-align: middle;\n",
       "    }\n",
       "\n",
       "    .dataframe tbody tr th {\n",
       "        vertical-align: top;\n",
       "    }\n",
       "\n",
       "    .dataframe thead th {\n",
       "        text-align: right;\n",
       "    }\n",
       "</style>\n",
       "<table border=\"1\" class=\"dataframe\">\n",
       "  <thead>\n",
       "    <tr style=\"text-align: right;\">\n",
       "      <th></th>\n",
       "      <th>alpha</th>\n",
       "      <th>coef1</th>\n",
       "      <th>coef2</th>\n",
       "      <th>coef3</th>\n",
       "      <th>coef4</th>\n",
       "      <th>coef5</th>\n",
       "      <th>train_score</th>\n",
       "      <th>test_score</th>\n",
       "      <th>e</th>\n",
       "      <th>coeff_used</th>\n",
       "    </tr>\n",
       "  </thead>\n",
       "  <tbody>\n",
       "    <tr>\n",
       "      <th>4998</th>\n",
       "      <td>0.002</td>\n",
       "      <td>2.840842</td>\n",
       "      <td>1.103962</td>\n",
       "      <td>-0.096665</td>\n",
       "      <td>-0.599384</td>\n",
       "      <td>-0.455921</td>\n",
       "      <td>0.165644</td>\n",
       "      <td>-0.022863</td>\n",
       "      <td>222499.312410</td>\n",
       "      <td>5.0</td>\n",
       "    </tr>\n",
       "    <tr>\n",
       "      <th>4997</th>\n",
       "      <td>0.003</td>\n",
       "      <td>2.840818</td>\n",
       "      <td>1.103957</td>\n",
       "      <td>-0.096674</td>\n",
       "      <td>-0.599385</td>\n",
       "      <td>-0.455913</td>\n",
       "      <td>0.165644</td>\n",
       "      <td>-0.022863</td>\n",
       "      <td>222499.313160</td>\n",
       "      <td>5.0</td>\n",
       "    </tr>\n",
       "    <tr>\n",
       "      <th>4996</th>\n",
       "      <td>0.004</td>\n",
       "      <td>2.840794</td>\n",
       "      <td>1.103953</td>\n",
       "      <td>-0.096682</td>\n",
       "      <td>-0.599386</td>\n",
       "      <td>-0.455905</td>\n",
       "      <td>0.165644</td>\n",
       "      <td>-0.022863</td>\n",
       "      <td>222499.313910</td>\n",
       "      <td>5.0</td>\n",
       "    </tr>\n",
       "    <tr>\n",
       "      <th>4995</th>\n",
       "      <td>0.005</td>\n",
       "      <td>2.840770</td>\n",
       "      <td>1.103948</td>\n",
       "      <td>-0.096691</td>\n",
       "      <td>-0.599388</td>\n",
       "      <td>-0.455896</td>\n",
       "      <td>0.165644</td>\n",
       "      <td>-0.022863</td>\n",
       "      <td>222499.314661</td>\n",
       "      <td>5.0</td>\n",
       "    </tr>\n",
       "    <tr>\n",
       "      <th>4994</th>\n",
       "      <td>0.006</td>\n",
       "      <td>2.840747</td>\n",
       "      <td>1.103944</td>\n",
       "      <td>-0.096700</td>\n",
       "      <td>-0.599389</td>\n",
       "      <td>-0.455888</td>\n",
       "      <td>0.165644</td>\n",
       "      <td>-0.022863</td>\n",
       "      <td>222499.315411</td>\n",
       "      <td>5.0</td>\n",
       "    </tr>\n",
       "    <tr>\n",
       "      <th>4993</th>\n",
       "      <td>0.007</td>\n",
       "      <td>2.840723</td>\n",
       "      <td>1.103940</td>\n",
       "      <td>-0.096709</td>\n",
       "      <td>-0.599390</td>\n",
       "      <td>-0.455880</td>\n",
       "      <td>0.165644</td>\n",
       "      <td>-0.022863</td>\n",
       "      <td>222499.316161</td>\n",
       "      <td>5.0</td>\n",
       "    </tr>\n",
       "  </tbody>\n",
       "</table>\n",
       "</div>"
      ],
      "text/plain": [
       "      alpha     coef1     coef2     coef3     coef4     coef5  train_score  \\\n",
       "4998  0.002  2.840842  1.103962 -0.096665 -0.599384 -0.455921     0.165644   \n",
       "4997  0.003  2.840818  1.103957 -0.096674 -0.599385 -0.455913     0.165644   \n",
       "4996  0.004  2.840794  1.103953 -0.096682 -0.599386 -0.455905     0.165644   \n",
       "4995  0.005  2.840770  1.103948 -0.096691 -0.599388 -0.455896     0.165644   \n",
       "4994  0.006  2.840747  1.103944 -0.096700 -0.599389 -0.455888     0.165644   \n",
       "4993  0.007  2.840723  1.103940 -0.096709 -0.599390 -0.455880     0.165644   \n",
       "\n",
       "      test_score              e  coeff_used  \n",
       "4998   -0.022863  222499.312410         5.0  \n",
       "4997   -0.022863  222499.313160         5.0  \n",
       "4996   -0.022863  222499.313910         5.0  \n",
       "4995   -0.022863  222499.314661         5.0  \n",
       "4994   -0.022863  222499.315411         5.0  \n",
       "4993   -0.022863  222499.316161         5.0  "
      ]
     },
     "execution_count": 1221,
     "metadata": {},
     "output_type": "execute_result"
    }
   ],
   "source": [
    "alpha_df.sort_values(by='test_score', ascending=False)[0:6]"
   ]
  },
  {
   "cell_type": "markdown",
   "metadata": {},
   "source": [
    "# SVR"
   ]
  },
  {
   "cell_type": "code",
   "execution_count": 857,
   "metadata": {},
   "outputs": [],
   "source": [
    "from sklearn.svm import SVR\n",
    "from sklearn.model_selection import GridSearchCV\n",
    "from sklearn.model_selection import learning_curve"
   ]
  },
  {
   "cell_type": "code",
   "execution_count": 1222,
   "metadata": {},
   "outputs": [],
   "source": [
    "x = fama_3[['Mkt-RF', 'SMB', 'HML']]\n",
    "y = fama_3[['return_rate']]\n",
    "x_train, x_test, y_train, y_test = train_test_split(x, y, test_size=0.25)\n",
    "\n",
    "sc = StandardScaler()\n",
    "sc.fit(x_train)  #可以使用計算得到的均值和方差來對訓練資料做標準化處理\n",
    "x_train_std = sc.transform(x_train)\n",
    "x_test_std = sc.transform(x_test)"
   ]
  },
  {
   "cell_type": "code",
   "execution_count": 1223,
   "metadata": {},
   "outputs": [],
   "source": [
    "c_df = pd.DataFrame(columns=['c', 'coef1', 'coef2', 'coef3', 'train_score', 'test_score', 'e', 'coeff_used'])\n",
    "c = 100\n",
    "while c > 1:\n",
    "    svr_lin = SVR(kernel='linear', C=c, gamma='auto')\n",
    "    svr_lin.fit(x_train_std, y_train['return_rate'].values)\n",
    "    y_predict_train = svr_lin.predict(x_train_std)\n",
    "    score_train = r2_score(y_train['return_rate'].values, y_predict_train)\n",
    "    y_predict = svr_lin.predict(x_test_std)\n",
    "    score=r2_score(y_test['return_rate'].values, y_predict)\n",
    "    e = mean_squared_error(y_test['return_rate'].values, y_predict)\n",
    "    coeff_used = np.sum(svr_lin.coef_!=0)\n",
    "    c_df.loc[-1] = [c] + list(svr_lin.coef_[0]) + [score_train, score, e, coeff_used]\n",
    "    c_df = c_df.reset_index(drop=True)\n",
    "    c = c - 1"
   ]
  },
  {
   "cell_type": "code",
   "execution_count": 1224,
   "metadata": {
    "scrolled": true
   },
   "outputs": [
    {
     "data": {
      "text/html": [
       "<div>\n",
       "<style scoped>\n",
       "    .dataframe tbody tr th:only-of-type {\n",
       "        vertical-align: middle;\n",
       "    }\n",
       "\n",
       "    .dataframe tbody tr th {\n",
       "        vertical-align: top;\n",
       "    }\n",
       "\n",
       "    .dataframe thead th {\n",
       "        text-align: right;\n",
       "    }\n",
       "</style>\n",
       "<table border=\"1\" class=\"dataframe\">\n",
       "  <thead>\n",
       "    <tr style=\"text-align: right;\">\n",
       "      <th></th>\n",
       "      <th>c</th>\n",
       "      <th>coef1</th>\n",
       "      <th>coef2</th>\n",
       "      <th>coef3</th>\n",
       "      <th>train_score</th>\n",
       "      <th>test_score</th>\n",
       "      <th>e</th>\n",
       "      <th>coeff_used</th>\n",
       "    </tr>\n",
       "  </thead>\n",
       "  <tbody>\n",
       "    <tr>\n",
       "      <th>98</th>\n",
       "      <td>2.0</td>\n",
       "      <td>3.730115</td>\n",
       "      <td>0.053653</td>\n",
       "      <td>-0.707161</td>\n",
       "      <td>-0.005909</td>\n",
       "      <td>0.628412</td>\n",
       "      <td>9.097675</td>\n",
       "      <td>3.0</td>\n",
       "    </tr>\n",
       "    <tr>\n",
       "      <th>94</th>\n",
       "      <td>6.0</td>\n",
       "      <td>3.768365</td>\n",
       "      <td>0.033870</td>\n",
       "      <td>-0.723266</td>\n",
       "      <td>-0.005891</td>\n",
       "      <td>0.627369</td>\n",
       "      <td>9.123196</td>\n",
       "      <td>3.0</td>\n",
       "    </tr>\n",
       "    <tr>\n",
       "      <th>44</th>\n",
       "      <td>56.0</td>\n",
       "      <td>3.768349</td>\n",
       "      <td>0.034044</td>\n",
       "      <td>-0.722981</td>\n",
       "      <td>-0.005891</td>\n",
       "      <td>0.627361</td>\n",
       "      <td>9.123395</td>\n",
       "      <td>3.0</td>\n",
       "    </tr>\n",
       "    <tr>\n",
       "      <th>52</th>\n",
       "      <td>48.0</td>\n",
       "      <td>3.768310</td>\n",
       "      <td>0.034028</td>\n",
       "      <td>-0.722978</td>\n",
       "      <td>-0.005891</td>\n",
       "      <td>0.627361</td>\n",
       "      <td>9.123396</td>\n",
       "      <td>3.0</td>\n",
       "    </tr>\n",
       "    <tr>\n",
       "      <th>88</th>\n",
       "      <td>12.0</td>\n",
       "      <td>3.768324</td>\n",
       "      <td>0.034015</td>\n",
       "      <td>-0.722982</td>\n",
       "      <td>-0.005891</td>\n",
       "      <td>0.627360</td>\n",
       "      <td>9.123415</td>\n",
       "      <td>3.0</td>\n",
       "    </tr>\n",
       "    <tr>\n",
       "      <th>33</th>\n",
       "      <td>67.0</td>\n",
       "      <td>3.768565</td>\n",
       "      <td>0.034060</td>\n",
       "      <td>-0.722995</td>\n",
       "      <td>-0.005891</td>\n",
       "      <td>0.627358</td>\n",
       "      <td>9.123485</td>\n",
       "      <td>3.0</td>\n",
       "    </tr>\n",
       "  </tbody>\n",
       "</table>\n",
       "</div>"
      ],
      "text/plain": [
       "       c     coef1     coef2     coef3  train_score  test_score         e  \\\n",
       "98   2.0  3.730115  0.053653 -0.707161    -0.005909    0.628412  9.097675   \n",
       "94   6.0  3.768365  0.033870 -0.723266    -0.005891    0.627369  9.123196   \n",
       "44  56.0  3.768349  0.034044 -0.722981    -0.005891    0.627361  9.123395   \n",
       "52  48.0  3.768310  0.034028 -0.722978    -0.005891    0.627361  9.123396   \n",
       "88  12.0  3.768324  0.034015 -0.722982    -0.005891    0.627360  9.123415   \n",
       "33  67.0  3.768565  0.034060 -0.722995    -0.005891    0.627358  9.123485   \n",
       "\n",
       "    coeff_used  \n",
       "98         3.0  \n",
       "94         3.0  \n",
       "44         3.0  \n",
       "52         3.0  \n",
       "88         3.0  \n",
       "33         3.0  "
      ]
     },
     "execution_count": 1224,
     "metadata": {},
     "output_type": "execute_result"
    }
   ],
   "source": [
    "c_df.sort_values(by='test_score', ascending=False)[0:6]"
   ]
  },
  {
   "cell_type": "code",
   "execution_count": 1225,
   "metadata": {},
   "outputs": [],
   "source": [
    "x = fama_5[['Mkt-RF', 'SMB', 'RMW', 'CMA', 'HML']]\n",
    "y = fama_5[['return_rate']]\n",
    "x_train, x_test, y_train, y_test = train_test_split(x, y, test_size=0.25)\n",
    "\n",
    "sc = StandardScaler()\n",
    "sc.fit(x_train)  #可以使用計算得到的均值和方差來對訓練資料做標準化處理\n",
    "x_train_std = sc.transform(x_train)\n",
    "x_test_std = sc.transform(x_test)"
   ]
  },
  {
   "cell_type": "code",
   "execution_count": 1226,
   "metadata": {},
   "outputs": [],
   "source": [
    "c_df = pd.DataFrame(columns=['alpha', 'coef1', 'coef2', 'coef3', 'coef4', 'coef5', 'train_score', 'test_score', 'e', 'coeff_used'])\n",
    "c = 100\n",
    "while c > 1:\n",
    "    svr_lin = SVR(kernel='linear', C=c, gamma='auto')\n",
    "    svr_lin.fit(x_train_std, y_train['return_rate'].values)\n",
    "    y_predict_train = svr_lin.predict(x_train_std)\n",
    "    score_train = r2_score(y_train['return_rate'].values, y_predict_train)\n",
    "    y_predict = svr_lin.fit(x_train_std, y_train['return_rate'].values).predict(x_test_std)\n",
    "    score=r2_score(y_test['return_rate'].values, y_predict)\n",
    "    e = mean_squared_error(y_test['return_rate'].values, y_predict)\n",
    "    coeff_used = np.sum(svr_lin.coef_!=0)\n",
    "    c_df.loc[-1] = [c] + list(svr_lin.coef_[0]) + [score_train, score, e, coeff_used]\n",
    "    c_df = c_df.reset_index(drop=True)\n",
    "    c = c - 1"
   ]
  },
  {
   "cell_type": "code",
   "execution_count": 1227,
   "metadata": {
    "scrolled": true
   },
   "outputs": [
    {
     "data": {
      "text/html": [
       "<div>\n",
       "<style scoped>\n",
       "    .dataframe tbody tr th:only-of-type {\n",
       "        vertical-align: middle;\n",
       "    }\n",
       "\n",
       "    .dataframe tbody tr th {\n",
       "        vertical-align: top;\n",
       "    }\n",
       "\n",
       "    .dataframe thead th {\n",
       "        text-align: right;\n",
       "    }\n",
       "</style>\n",
       "<table border=\"1\" class=\"dataframe\">\n",
       "  <thead>\n",
       "    <tr style=\"text-align: right;\">\n",
       "      <th></th>\n",
       "      <th>alpha</th>\n",
       "      <th>coef1</th>\n",
       "      <th>coef2</th>\n",
       "      <th>coef3</th>\n",
       "      <th>coef4</th>\n",
       "      <th>coef5</th>\n",
       "      <th>train_score</th>\n",
       "      <th>test_score</th>\n",
       "      <th>e</th>\n",
       "      <th>coeff_used</th>\n",
       "    </tr>\n",
       "  </thead>\n",
       "  <tbody>\n",
       "    <tr>\n",
       "      <th>28</th>\n",
       "      <td>72.0</td>\n",
       "      <td>3.478645</td>\n",
       "      <td>0.231626</td>\n",
       "      <td>0.168914</td>\n",
       "      <td>-0.539909</td>\n",
       "      <td>-0.539594</td>\n",
       "      <td>-0.006139</td>\n",
       "      <td>0.586846</td>\n",
       "      <td>18.868834</td>\n",
       "      <td>5.0</td>\n",
       "    </tr>\n",
       "    <tr>\n",
       "      <th>29</th>\n",
       "      <td>71.0</td>\n",
       "      <td>3.478590</td>\n",
       "      <td>0.231718</td>\n",
       "      <td>0.168880</td>\n",
       "      <td>-0.539857</td>\n",
       "      <td>-0.539602</td>\n",
       "      <td>-0.006139</td>\n",
       "      <td>0.586840</td>\n",
       "      <td>18.869095</td>\n",
       "      <td>5.0</td>\n",
       "    </tr>\n",
       "    <tr>\n",
       "      <th>36</th>\n",
       "      <td>64.0</td>\n",
       "      <td>3.478624</td>\n",
       "      <td>0.231696</td>\n",
       "      <td>0.168964</td>\n",
       "      <td>-0.539831</td>\n",
       "      <td>-0.539672</td>\n",
       "      <td>-0.006139</td>\n",
       "      <td>0.586840</td>\n",
       "      <td>18.869122</td>\n",
       "      <td>5.0</td>\n",
       "    </tr>\n",
       "    <tr>\n",
       "      <th>63</th>\n",
       "      <td>37.0</td>\n",
       "      <td>3.478637</td>\n",
       "      <td>0.231623</td>\n",
       "      <td>0.168895</td>\n",
       "      <td>-0.539817</td>\n",
       "      <td>-0.539616</td>\n",
       "      <td>-0.006139</td>\n",
       "      <td>0.586838</td>\n",
       "      <td>18.869191</td>\n",
       "      <td>5.0</td>\n",
       "    </tr>\n",
       "    <tr>\n",
       "      <th>48</th>\n",
       "      <td>52.0</td>\n",
       "      <td>3.478617</td>\n",
       "      <td>0.231565</td>\n",
       "      <td>0.168768</td>\n",
       "      <td>-0.539760</td>\n",
       "      <td>-0.539594</td>\n",
       "      <td>-0.006139</td>\n",
       "      <td>0.586834</td>\n",
       "      <td>18.869382</td>\n",
       "      <td>5.0</td>\n",
       "    </tr>\n",
       "    <tr>\n",
       "      <th>24</th>\n",
       "      <td>76.0</td>\n",
       "      <td>3.478652</td>\n",
       "      <td>0.231583</td>\n",
       "      <td>0.168825</td>\n",
       "      <td>-0.539746</td>\n",
       "      <td>-0.539579</td>\n",
       "      <td>-0.006139</td>\n",
       "      <td>0.586833</td>\n",
       "      <td>18.869431</td>\n",
       "      <td>5.0</td>\n",
       "    </tr>\n",
       "  </tbody>\n",
       "</table>\n",
       "</div>"
      ],
      "text/plain": [
       "    alpha     coef1     coef2     coef3     coef4     coef5  train_score  \\\n",
       "28   72.0  3.478645  0.231626  0.168914 -0.539909 -0.539594    -0.006139   \n",
       "29   71.0  3.478590  0.231718  0.168880 -0.539857 -0.539602    -0.006139   \n",
       "36   64.0  3.478624  0.231696  0.168964 -0.539831 -0.539672    -0.006139   \n",
       "63   37.0  3.478637  0.231623  0.168895 -0.539817 -0.539616    -0.006139   \n",
       "48   52.0  3.478617  0.231565  0.168768 -0.539760 -0.539594    -0.006139   \n",
       "24   76.0  3.478652  0.231583  0.168825 -0.539746 -0.539579    -0.006139   \n",
       "\n",
       "    test_score          e  coeff_used  \n",
       "28    0.586846  18.868834         5.0  \n",
       "29    0.586840  18.869095         5.0  \n",
       "36    0.586840  18.869122         5.0  \n",
       "63    0.586838  18.869191         5.0  \n",
       "48    0.586834  18.869382         5.0  \n",
       "24    0.586833  18.869431         5.0  "
      ]
     },
     "execution_count": 1227,
     "metadata": {},
     "output_type": "execute_result"
    }
   ],
   "source": [
    "c_df.sort_values(by='test_score', ascending=False)[0:6]"
   ]
  },
  {
   "cell_type": "markdown",
   "metadata": {},
   "source": [
    "# LinearRegression"
   ]
  },
  {
   "cell_type": "code",
   "execution_count": 892,
   "metadata": {},
   "outputs": [],
   "source": [
    "from sklearn.linear_model import LinearRegression"
   ]
  },
  {
   "cell_type": "code",
   "execution_count": 1229,
   "metadata": {},
   "outputs": [],
   "source": [
    "x = fama_3[['Mkt-RF', 'SMB', 'HML']]\n",
    "y = fama_3[['return_rate']]\n",
    "x_train, x_test, y_train, y_test = train_test_split(x, y, test_size=0.25)\n",
    "\n",
    "sc = StandardScaler()\n",
    "sc.fit(x_train)  #可以使用計算得到的均值和方差來對訓練資料做標準化處理\n",
    "x_train_std = sc.transform(x_train)\n",
    "x_test_std = sc.transform(x_test)"
   ]
  },
  {
   "cell_type": "code",
   "execution_count": 1230,
   "metadata": {},
   "outputs": [
    {
     "name": "stdout",
     "output_type": "stream",
     "text": [
      "coef: [ 3.85355434  0.69724029 -0.69264773]\n",
      "score_train: 0.20782984928838288\n",
      "score_prediction: -0.021669436693446897\n",
      "e: 222351.13306960184\n"
     ]
    }
   ],
   "source": [
    "lr = LinearRegression(alpha)\n",
    "lr.fit(x_train_std, y_train['return_rate'].values)\n",
    "y_predict_train = lr.predict(x_train_std)\n",
    "score_train = r2_score(y_train['return_rate'].values, y_predict_train)\n",
    "y_predict = lr.predict(x_test_std)\n",
    "score=r2_score(y_test['return_rate'].values, y_predict)\n",
    "e = mean_squared_error(y_test['return_rate'].values, y_predict)\n",
    "coeff_used = np.sum(lr.coef_!=0)\n",
    "print('coef:', lr.coef_)\n",
    "print('score_train:',score_train)\n",
    "print('score_prediction:',score)\n",
    "print('e:',e)\n",
    "# list(lr.coef_) + [score_train, score, e, coeff_used]"
   ]
  },
  {
   "cell_type": "code",
   "execution_count": 1231,
   "metadata": {
    "scrolled": true
   },
   "outputs": [],
   "source": [
    "x = fama_5[['Mkt-RF', 'SMB', 'RMW', 'CMA', 'HML']]\n",
    "y = fama_5[['return_rate']]\n",
    "x_train, x_test, y_train, y_test = train_test_split(x, y, test_size=0.25)\n",
    "\n",
    "sc = StandardScaler()\n",
    "sc.fit(x_train)  #可以使用計算得到的均值和方差來對訓練資料做標準化處理\n",
    "x_train_std = sc.transform(x_train)\n",
    "x_test_std = sc.transform(x_test)"
   ]
  },
  {
   "cell_type": "code",
   "execution_count": 1232,
   "metadata": {},
   "outputs": [
    {
     "name": "stdout",
     "output_type": "stream",
     "text": [
      "coef: [ 3.72254478  0.20172483  0.0279679  -0.93653876 -0.34574796]\n",
      "score_train: 0.6928042989958643\n",
      "score_prediction: -0.019710340833582807\n",
      "e: 222380.1131178747\n"
     ]
    }
   ],
   "source": [
    "lr = LinearRegression(alpha)\n",
    "lr.fit(x_train_std, y_train['return_rate'].values)\n",
    "y_predict_train = lr.predict(x_train_std)\n",
    "score_train = r2_score(y_train['return_rate'].values, y_predict_train)\n",
    "y_predict = lr.predict(x_test_std)\n",
    "score=r2_score(y_test['return_rate'].values, y_predict)\n",
    "e = mean_squared_error(y_test['return_rate'].values, y_predict)\n",
    "coeff_used = np.sum(lr.coef_!=0)\n",
    "print('coef:', lr.coef_)\n",
    "print('score_train:',score_train)\n",
    "print('score_prediction:',score)\n",
    "print('e:',e)\n",
    "# list(lr.coef_) + [score, e, coeff_used]"
   ]
  },
  {
   "cell_type": "code",
   "execution_count": null,
   "metadata": {},
   "outputs": [],
   "source": []
  },
  {
   "cell_type": "code",
   "execution_count": null,
   "metadata": {},
   "outputs": [],
   "source": []
  },
  {
   "cell_type": "code",
   "execution_count": null,
   "metadata": {},
   "outputs": [],
   "source": []
  },
  {
   "cell_type": "code",
   "execution_count": null,
   "metadata": {},
   "outputs": [],
   "source": []
  },
  {
   "cell_type": "code",
   "execution_count": null,
   "metadata": {},
   "outputs": [],
   "source": []
  }
 ],
 "metadata": {
  "kernelspec": {
   "display_name": "Python 3",
   "language": "python",
   "name": "python3"
  },
  "language_info": {
   "codemirror_mode": {
    "name": "ipython",
    "version": 3
   },
   "file_extension": ".py",
   "mimetype": "text/x-python",
   "name": "python",
   "nbconvert_exporter": "python",
   "pygments_lexer": "ipython3",
   "version": "3.7.3"
  }
 },
 "nbformat": 4,
 "nbformat_minor": 2
}
